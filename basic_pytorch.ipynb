{
  "cells": [
    {
      "cell_type": "markdown",
      "metadata": {
        "id": "0HYxg3WbsaTw"
      },
      "source": [
        "<h1 align=\"center\">PyTorch Practice<h1>"
      ]
    },
    {
      "cell_type": "markdown",
      "metadata": {
        "id": "-mMVxa1VsygY"
      },
      "source": [
        "# First Project `MNIST`"
      ]
    },
    {
      "cell_type": "markdown",
      "metadata": {
        "id": "_JutuRfisk6Q"
      },
      "source": [
        "## Import the libraries"
      ]
    },
    {
      "cell_type": "code",
      "execution_count": null,
      "metadata": {
        "id": "Z0oXtsbHsOAy"
      },
      "outputs": [],
      "source": []
    },
    {
      "cell_type": "markdown",
      "metadata": {
        "id": "ZYLeo0H-sq2R"
      },
      "source": [
        "## Import the dataset and prepare it"
      ]
    },
    {
      "cell_type": "code",
      "execution_count": null,
      "metadata": {
        "id": "1_c2SyDxst78"
      },
      "outputs": [],
      "source": []
    },
    {
      "cell_type": "markdown",
      "metadata": {
        "id": "muFZY5JLsud6"
      },
      "source": [
        "## Train the model"
      ]
    },
    {
      "cell_type": "code",
      "execution_count": null,
      "metadata": {
        "id": "LK-4osWisxL7"
      },
      "outputs": [],
      "source": []
    },
    {
      "cell_type": "markdown",
      "metadata": {
        "id": "k_ElGcm0s4Ro"
      },
      "source": [
        "# second Project"
      ]
    },
    {
      "cell_type": "code",
      "execution_count": null,
      "metadata": {
        "id": "uQXU--n5s67v"
      },
      "outputs": [],
      "source": []
    }
  ],
  "metadata": {
    "colab": {
      "provenance": []
    },
    "kernelspec": {
      "display_name": "Python 3",
      "name": "python3"
    },
    "language_info": {
      "name": "python"
    }
  },
  "nbformat": 4,
  "nbformat_minor": 0
}
